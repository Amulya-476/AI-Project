{
 "cells": [
  {
   "cell_type": "code",
   "execution_count": 1,
   "id": "0e211306-5b59-4ff9-98db-c88a6be13262",
   "metadata": {},
   "outputs": [
    {
     "name": "stdout",
     "output_type": "stream",
     "text": [
      "Welcome to Hunar Intern Rule-Based Chatbot!\n",
      "Type 'bye' or 'exit' to end the chat.\n",
      "\n"
     ]
    },
    {
     "name": "stdin",
     "output_type": "stream",
     "text": [
      "You:  help\n"
     ]
    },
    {
     "name": "stdout",
     "output_type": "stream",
     "text": [
      "Bot: You can ask me about the weather, who I am, or just say hello!\n"
     ]
    },
    {
     "name": "stdin",
     "output_type": "stream",
     "text": [
      "You:  name\n"
     ]
    },
    {
     "name": "stdout",
     "output_type": "stream",
     "text": [
      "Bot: I'm sorry, I didn't understand that. Can you rephrase?\n"
     ]
    },
    {
     "name": "stdin",
     "output_type": "stream",
     "text": [
      "You:  your name\n"
     ]
    },
    {
     "name": "stdout",
     "output_type": "stream",
     "text": [
      "Bot: I am a simple rule-based chatbot created for the Hunar Intern AI Task!\n"
     ]
    },
    {
     "name": "stdin",
     "output_type": "stream",
     "text": [
      "You:  bye\n"
     ]
    },
    {
     "name": "stdout",
     "output_type": "stream",
     "text": [
      "Bot: Goodbye! Have a great day.\n"
     ]
    }
   ],
   "source": [
    "def chatbot_response(user_input):\n",
    "    user_input = user_input.lower()\n",
    "\n",
    "    if \"hello\" in user_input or \"hi\" in user_input:\n",
    "        return \"Hello! How can I help you today?\"\n",
    "    elif \"your name\" in user_input:\n",
    "        return \"I am a simple rule-based chatbot created for the Hunar Intern AI Task!\"\n",
    "    elif \"weather\" in user_input:\n",
    "        return \"I'm not connected to the internet, but it looks sunny to me! \"\n",
    "    elif \"bye\" in user_input or \"exit\" in user_input:\n",
    "        return \"Goodbye! Have a great day.\"\n",
    "    elif \"help\" in user_input:\n",
    "        return \"You can ask me about the weather, who I am, or just say hello!\"\n",
    "    else:\n",
    "        return \"I'm sorry, I didn't understand that. Can you rephrase?\"\n",
    "def start_chat():\n",
    "    print(\"Welcome to Hunar Intern Rule-Based Chatbot!\")\n",
    "    print(\"Type 'bye' or 'exit' to end the chat.\\n\")\n",
    "\n",
    "    while True:\n",
    "        user_input = input(\"You: \")\n",
    "        response = chatbot_response(user_input)\n",
    "        print(\"Bot:\", response)\n",
    "        \n",
    "        if \"bye\" in user_input.lower() or \"exit\" in user_input.lower():\n",
    "            break\n",
    "start_chat()"
   ]
  },
  {
   "cell_type": "code",
   "execution_count": null,
   "id": "8294e59f-21e4-4875-97e8-a9eeabc1f30e",
   "metadata": {},
   "outputs": [],
   "source": []
  }
 ],
 "metadata": {
  "kernelspec": {
   "display_name": "Python 3 (ipykernel)",
   "language": "python",
   "name": "python3"
  },
  "language_info": {
   "codemirror_mode": {
    "name": "ipython",
    "version": 3
   },
   "file_extension": ".py",
   "mimetype": "text/x-python",
   "name": "python",
   "nbconvert_exporter": "python",
   "pygments_lexer": "ipython3",
   "version": "3.12.7"
  }
 },
 "nbformat": 4,
 "nbformat_minor": 5
}
