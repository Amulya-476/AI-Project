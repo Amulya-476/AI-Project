{
 "cells": [
  {
   "cell_type": "code",
   "execution_count": 1,
   "id": "0e211306-5b59-4ff9-98db-c88a6be13262",
   "metadata": {},
   "outputs": [
    {
     "name": "stdout",
     "output_type": "stream",
     "text": [
      "Welcome to Hunar Intern Rule-Based Chatbot!\n",
      "Type 'bye' or 'exit' to end the chat.\n",
      "\n"
     ]
    },
    {
     "name": "stdin",
     "output_type": "stream",
     "text": [
      "You:  help\n"
     ]
    },
    {
     "name": "stdout",
     "output_type": "stream",
     "text": [
      "Bot: You can ask me about the weather, who I am, or just say hello!\n"
     ]
    },
    {
     "name": "stdin",
     "output_type": "stream",
     "text": [
      "You:  name\n"
     ]
    },
    {
     "name": "stdout",
     "output_type": "stream",
     "text": [
      "Bot: I'm sorry, I didn't understand that. Can you rephrase?\n"
     ]
    },
    {
     "name": "stdin",
     "output_type": "stream",
     "text": [
      "You:  your name\n"
     ]
    },
    {
     "name": "stdout",
     "output_type": "stream",
     "text": [
      "Bot: I am a simple rule-based chatbot created for the Hunar Intern AI Task!\n"
     ]
    },
    {
     "name": "stdin",
     "output_type": "stream",
     "text": [
      "You:  bye\n"
     ]
    },
    {
     "name": "stdout",
     "output_type": "stream",
     "text": [
      "Bot: Goodbye! Have a great day.\n"
     ]
    }
   ],
   "source": [
    "def chatbot_response(user_input):\n",
    "    user_input = user_input.lower()\n",
    "\n",
    "    if \"hello\" in user_input or \"hi\" in user_input:\n",
    "        return \"Hello! How can I help you today?\"\n",
    "    elif \"your name\" in user_input:\n",
    "        return \"I am a simple rule-based chatbot created for the Hunar Intern AI Task!\"\n",
    "    elif \"weather\" in user_input:\n",
    "        return \"I'm not connected to the internet, but it looks sunny to me! \"\n",
    "    elif \"bye\" in user_input or \"exit\" in user_input:\n",
    "        return \"Goodbye! Have a great day.\"\n",
    "    elif \"help\" in user_input:\n",
    "        return \"You can ask me about the weather, who I am, or just say hello!\"\n",
    "    else:\n",
    "        return \"I'm sorry, I didn't understand that. Can you rephrase?\"\n",
    "def start_chat():\n",
    "    print(\"Welcome to Hunar Intern Rule-Based Chatbot!\")\n",
    "    print(\"Type 'bye' or 'exit' to end the chat.\\n\")\n",
    "\n",
    "    while True:\n",
    "        user_input = input(\"You: \")\n",
    "        response = chatbot_response(user_input)\n",
    "        print(\"Bot:\", response)\n",
    "        \n",
    "        if \"bye\" in user_input.lower() or \"exit\" in user_input.lower():\n",
    "            break\n",
    "start_chat()"
   ]
  },
  {
   "cell_type": "code",
   "execution_count": 19,
   "id": "a7fbfaff-f9bc-4072-8fc7-8c4bb099e96f",
   "metadata": {},
   "outputs": [
    {
     "name": "stdout",
     "output_type": "stream",
     "text": [
      "HTML and CSS files created successfully.\n"
     ]
    }
   ],
   "source": [
    "# Save HTML content\n",
    "html_content = \"\"\"\n",
    "<!DOCTYPE html>\n",
    "<html lang=\"en\">\n",
    "<head>\n",
    "    <meta charset=\"UTF-8\">\n",
    "    <title>My Personal Homepage</title>\n",
    "    <link rel=\"stylesheet\" href=\"style.css\">\n",
    "</head>\n",
    "<body>\n",
    "    <div class=\"container\">\n",
    "        <h1>Hello, I'm [Monesha Palagani]</h1>\n",
    "        <p>Welcome to my personal homepage! I'm a web development intern passionate about creating modern, responsive websites.</p>\n",
    "        \n",
    "        <h2>Monesha Palagani</h2>\n",
    "        <h2>student</h2>\n",
    "        <h2>c,python,java</h2>\n",
    "        <p>I am currently part of the Hunar Intern Program where I am enhancing my HTML and CSS skills.</p>\n",
    "        \n",
    "        <h2>Contact Me</h2>\n",
    "        <ul>\n",
    "            <li><a href=\"mailto:your.email@example.com\">moneshpalagani@gmail.com</a></li>\n",
    "            <li><a href=\"https://www.linkedin.com/in/yourprofile\" target=\"_blank\">LinkedIn</a></li>\n",
    "            <li><a href=\"https://github.com/yourusername\" target=\"_blank\">GitHub</a></li>\n",
    "        </ul>\n",
    "    </div>\n",
    "</body>\n",
    "</html>\n",
    "\"\"\"\n",
    "\n",
    "# Save to file\n",
    "with open(\"index.html\", \"w\") as f:\n",
    "    f.write(html_content)\n",
    "\n",
    "# Save CSS content\n",
    "css_content = \"\"\"\n",
    "body {\n",
    "    font-family: Arial, sans-serif;\n",
    "    background-color: #f2f2f2;\n",
    "    color: #333;\n",
    "    padding: 20px;\n",
    "}\n",
    "\n",
    ".container {\n",
    "    max-width: 800px;\n",
    "    margin: auto;\n",
    "    background: #fff;\n",
    "    padding: 20px;\n",
    "    border-radius: 10px;\n",
    "    box-shadow: 0 0 10px rgba(0,0,0,0.1);\n",
    "}\n",
    "\n",
    "h1 {\n",
    "    color: #0066cc;\n",
    "}\n",
    "\n",
    "a {\n",
    "    color: #0066cc;\n",
    "    text-decoration: none;\n",
    "}\n",
    "a:hover {\n",
    "    text-decoration: underline;\n",
    "}\n",
    "\"\"\"\n",
    "\n",
    "# Save to file\n",
    "with open(\"style.css\", \"w\") as f:\n",
    "    f.write(css_content)\n",
    "\n",
    "print(\"HTML and CSS files created successfully.\")\n"
   ]
  },
  {
   "cell_type": "code",
   "execution_count": 20,
   "id": "3ee9b7a4-263a-4264-85b4-b8c63ccc9ce1",
   "metadata": {},
   "outputs": [
    {
     "data": {
      "text/plain": [
       "True"
      ]
     },
     "execution_count": 20,
     "metadata": {},
     "output_type": "execute_result"
    }
   ],
   "source": [
    "import webbrowser\n",
    "webbrowser.open(\"index.html\")"
   ]
  },
  {
   "cell_type": "code",
   "execution_count": null,
   "id": "a0d4ec11-ce0f-4492-8a97-a21a3357d68f",
   "metadata": {},
   "outputs": [],
   "source": []
  }
 ],
 "metadata": {
  "kernelspec": {
   "display_name": "Python 3 (ipykernel)",
   "language": "python",
   "name": "python3"
  },
  "language_info": {
   "codemirror_mode": {
    "name": "ipython",
    "version": 3
   },
   "file_extension": ".py",
   "mimetype": "text/x-python",
   "name": "python",
   "nbconvert_exporter": "python",
   "pygments_lexer": "ipython3",
   "version": "3.12.7"
  }
 },
 "nbformat": 4,
 "nbformat_minor": 5
}
