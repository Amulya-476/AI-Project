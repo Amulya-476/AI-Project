{
 "cells": [
  {
   "cell_type": "code",
   "execution_count": 5,
   "id": "95a2e339-ef1a-4acb-bafc-fc57c1605477",
   "metadata": {},
   "outputs": [
    {
     "name": "stdin",
     "output_type": "stream",
     "text": [
      " 3\n",
      " ---\n",
      " -m-\n",
      " p--\n"
     ]
    },
    {
     "name": "stdout",
     "output_type": "stream",
     "text": [
      "DOWN\n",
      "LEFT\n"
     ]
    }
   ],
   "source": [
    "def display_Path_to_Princess(n, grid):\n",
    "    \"\"\"\n",
    "    Prints the moves for the bot to reach the princess in the minimum steps.\n",
    "    \n",
    "    Arguments:\n",
    "    n -- size of the grid (odd integer between 3 and 99)\n",
    "    grid -- list of strings representing the NxN grid\n",
    "    \"\"\"\n",
    "    \n",
    "    # Locate bot ('m') and princess ('p') positions\n",
    "    bot_x, bot_y = -1, -1\n",
    "    princess_x, princess_y = -1, -1\n",
    "    \n",
    "    for i in range(n):\n",
    "        for j in range(n):\n",
    "            if grid[i][j] == 'm':\n",
    "                bot_x, bot_y = i, j\n",
    "            elif grid[i][j] == 'p':\n",
    "                princess_x, princess_y = i, j\n",
    "    \n",
    "    # Determine moves needed in vertical direction (rows)\n",
    "    vertical_steps = princess_x - bot_x\n",
    "    if vertical_steps < 0:\n",
    "        for _ in range(abs(vertical_steps)):\n",
    "            print(\"UP\")\n",
    "    elif vertical_steps > 0:\n",
    "        for _ in range(vertical_steps):\n",
    "            print(\"DOWN\")\n",
    "    \n",
    "    # Determine moves needed in horizontal direction (columns)\n",
    "    horizontal_steps = princess_y - bot_y\n",
    "    if horizontal_steps < 0:\n",
    "        for _ in range(abs(horizontal_steps)):\n",
    "            print(\"LEFT\")\n",
    "    elif horizontal_steps > 0:\n",
    "        for _ in range(horizontal_steps):\n",
    "            print(\"RIGHT\")\n",
    "\n",
    "\n",
    "if __name__ == \"__main__\":\n",
    "    # Read the size of the grid\n",
    "    n = int(input().strip())\n",
    "    \n",
    "    # Read n lines representing the grid\n",
    "    grid = []\n",
    "    for _ in range(n):\n",
    "        row = input().strip()\n",
    "        grid.append(row)\n",
    "    \n",
    "    # Call the function with inputs\n",
    "    display_Path_to_Princess(n, grid)"
   ]
  },
  {
   "cell_type": "code",
   "execution_count": null,
   "id": "ff691c78-5558-429d-88a3-e5849fdd24dc",
   "metadata": {},
   "outputs": [],
   "source": []
  }
 ],
 "metadata": {
  "kernelspec": {
   "display_name": "Python 3 (ipykernel)",
   "language": "python",
   "name": "python3"
  },
  "language_info": {
   "codemirror_mode": {
    "name": "ipython",
    "version": 3
   },
   "file_extension": ".py",
   "mimetype": "text/x-python",
   "name": "python",
   "nbconvert_exporter": "python",
   "pygments_lexer": "ipython3",
   "version": "3.12.7"
  }
 },
 "nbformat": 4,
 "nbformat_minor": 5
}
